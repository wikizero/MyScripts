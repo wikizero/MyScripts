{
 "cells": [
  {
   "cell_type": "code",
   "execution_count": null,
   "metadata": {},
   "outputs": [
    {
     "data": {
      "text/html": [
       "<div>\n",
       "<style scoped>\n",
       "    .dataframe tbody tr th:only-of-type {\n",
       "        vertical-align: middle;\n",
       "    }\n",
       "\n",
       "    .dataframe tbody tr th {\n",
       "        vertical-align: top;\n",
       "    }\n",
       "\n",
       "    .dataframe thead th {\n",
       "        text-align: right;\n",
       "    }\n",
       "</style>\n",
       "<table border=\"1\" class=\"dataframe\">\n",
       "  <thead>\n",
       "    <tr style=\"text-align: right;\">\n",
       "      <th></th>\n",
       "      <th>browser</th>\n",
       "      <th>city</th>\n",
       "      <th>datetime</th>\n",
       "      <th>ip</th>\n",
       "      <th>method</th>\n",
       "      <th>module</th>\n",
       "    </tr>\n",
       "  </thead>\n",
       "  <tbody>\n",
       "    <tr>\n",
       "      <th>0</th>\n",
       "      <td>firefox</td>\n",
       "      <td>倩市</td>\n",
       "      <td>2019-05-21 02:54:01</td>\n",
       "      <td>169.253.193.81</td>\n",
       "      <td>post</td>\n",
       "      <td>任务列表</td>\n",
       "    </tr>\n",
       "    <tr>\n",
       "      <th>1</th>\n",
       "      <td>chrome</td>\n",
       "      <td>颖市</td>\n",
       "      <td>2019-05-21 10:33:04</td>\n",
       "      <td>202.112.176.9</td>\n",
       "      <td>post</td>\n",
       "      <td>个人信息</td>\n",
       "    </tr>\n",
       "    <tr>\n",
       "      <th>2</th>\n",
       "      <td>firefox</td>\n",
       "      <td>南京市</td>\n",
       "      <td>2019-05-21 10:43:27</td>\n",
       "      <td>192.0.86.164</td>\n",
       "      <td>get</td>\n",
       "      <td>主页</td>\n",
       "    </tr>\n",
       "    <tr>\n",
       "      <th>3</th>\n",
       "      <td>firefox</td>\n",
       "      <td>龙县</td>\n",
       "      <td>2019-05-29 03:13:32</td>\n",
       "      <td>192.172.71.27</td>\n",
       "      <td>option</td>\n",
       "      <td>项目列表</td>\n",
       "    </tr>\n",
       "    <tr>\n",
       "      <th>4</th>\n",
       "      <td>safari</td>\n",
       "      <td>颖市</td>\n",
       "      <td>2019-05-28 15:22:33</td>\n",
       "      <td>169.242.249.63</td>\n",
       "      <td>post</td>\n",
       "      <td>任务详情</td>\n",
       "    </tr>\n",
       "  </tbody>\n",
       "</table>\n",
       "</div>"
      ],
      "text/plain": [
       "   browser city             datetime              ip  method module\n",
       "0  firefox   倩市  2019-05-21 02:54:01  169.253.193.81    post   任务列表\n",
       "1   chrome   颖市  2019-05-21 10:33:04   202.112.176.9    post   个人信息\n",
       "2  firefox  南京市  2019-05-21 10:43:27    192.0.86.164     get     主页\n",
       "3  firefox   龙县  2019-05-29 03:13:32   192.172.71.27  option   项目列表\n",
       "4   safari   颖市  2019-05-28 15:22:33  169.242.249.63    post   任务详情"
      ]
     },
     "execution_count": 7,
     "metadata": {},
     "output_type": "execute_result"
    }
   ],
   "source": [
    "import numpy as np\n",
    "import pandas as pd\n",
    "%matplotlib inline\n",
    "\n",
    "df = pd.read_csv('data.csv')\n",
    "df.head()"
   ]
  },
  {
   "cell_type": "code",
   "execution_count": 16,
   "metadata": {},
   "outputs": [
    {
     "name": "stdout",
     "output_type": "stream",
     "text": [
      "数据集一共10000行数据！各列类型如下(object类型即为string)：\n"
     ]
    },
    {
     "data": {
      "text/plain": [
       "browser     object\n",
       "city        object\n",
       "datetime    object\n",
       "ip          object\n",
       "method      object\n",
       "module      object\n",
       "dtype: object"
      ]
     },
     "execution_count": 16,
     "metadata": {},
     "output_type": "execute_result"
    }
   ],
   "source": [
    "# 数据信息\n",
    "print(f'数据集一共{len(df)}行数据！各列类型如下(object类型即为string)：')\n",
    "df.dtypes"
   ]
  },
  {
   "cell_type": "markdown",
   "metadata": {},
   "source": [
    "### Q1：一共记录了几天的数据？"
   ]
  },
  {
   "cell_type": "code",
   "execution_count": 17,
   "metadata": {},
   "outputs": [
    {
     "data": {
      "text/plain": [
       "2019-05-28    1049\n",
       "2019-05-27    1040\n",
       "2019-05-23    1038\n",
       "2019-05-21    1015\n",
       "2019-05-22    1005\n",
       "2019-05-26     999\n",
       "2019-05-20     966\n",
       "2019-05-24     956\n",
       "2019-05-25     947\n",
       "2019-05-29     874\n",
       "2019-05-19     111\n",
       "Name: datetime, dtype: int64"
      ]
     },
     "execution_count": 17,
     "metadata": {},
     "output_type": "execute_result"
    }
   ],
   "source": [
    "t = df.datetime.astype('datetime64[ns]').dt.date.value_counts()\n",
    "t"
   ]
  },
  {
   "cell_type": "code",
   "execution_count": 18,
   "metadata": {},
   "outputs": [
    {
     "data": {
      "text/plain": [
       "11"
      ]
     },
     "execution_count": 18,
     "metadata": {},
     "output_type": "execute_result"
    }
   ],
   "source": [
    "len(t)"
   ]
  },
  {
   "cell_type": "markdown",
   "metadata": {},
   "source": [
    "### Q2：每天请求数是多少，并作折线图展示！"
   ]
  },
  {
   "cell_type": "code",
   "execution_count": 19,
   "metadata": {},
   "outputs": [
    {
     "data": {
      "text/plain": [
       "datetime\n",
       "2019-05-19     111\n",
       "2019-05-20     966\n",
       "2019-05-21    1015\n",
       "2019-05-22    1005\n",
       "2019-05-23    1038\n",
       "2019-05-24     956\n",
       "2019-05-25     947\n",
       "2019-05-26     999\n",
       "2019-05-27    1040\n",
       "2019-05-28    1049\n",
       "2019-05-29     874\n",
       "dtype: int64"
      ]
     },
     "execution_count": 19,
     "metadata": {},
     "output_type": "execute_result"
    }
   ],
   "source": [
    "t = df.groupby(df.datetime.astype('datetime64[ns]').dt.date).size()  # 效果类似value_counts()\n",
    "t"
   ]
  },
  {
   "cell_type": "code",
   "execution_count": 20,
   "metadata": {},
   "outputs": [
    {
     "data": {
      "text/plain": [
       "<matplotlib.axes._subplots.AxesSubplot at 0x1135af550>"
      ]
     },
     "execution_count": 20,
     "metadata": {},
     "output_type": "execute_result"
    },
    {
     "data": {
      "image/png": "[encoded data removed]",
      "text/plain": [
       "<Figure size 432x288 with 1 Axes>"
      ]
     },
     "metadata": {},
     "output_type": "display_data"
    }
   ],
   "source": [
    "t.plot()"
   ]
  },
  {
   "cell_type": "markdown",
   "metadata": {},
   "source": [
    "### Q3：访问最多的前五个IP？"
   ]
  },
  {
   "cell_type": "code",
   "execution_count": 26,
   "metadata": {},
   "outputs": [
    {
     "data": {
      "text/plain": [
       "203.0.59.155      133\n",
       "192.83.9.215      128\n",
       "1.228.115.113     118\n",
       "192.31.204.69     117\n",
       "197.154.176.98    116\n",
       "Name: ip, dtype: int64"
      ]
     },
     "execution_count": 26,
     "metadata": {},
     "output_type": "execute_result"
    }
   ],
   "source": [
    "df.ip.value_counts().head(5)"
   ]
  },
  {
   "cell_type": "markdown",
   "metadata": {},
   "source": [
    "### Q4：假如一个ip一个用户，最多用户的前三个城市是那几个？"
   ]
  },
  {
   "cell_type": "code",
   "execution_count": 32,
   "metadata": {},
   "outputs": [
    {
     "data": {
      "text/plain": [
       "city\n",
       "东莞县      [197.154.176.98, 203.0.59.155, 57.126.171.51, ...\n",
       "乌鲁木齐县    [216.111.3.86, 192.0.53.46, 203.0.76.165, 203....\n",
       "伟县       [7.216.233.147, 200.238.69.190, 192.88.57.235,...\n",
       "倩市       [169.253.193.81, 192.175.169.242, 192.88.156.2...\n",
       "刚市       [169.201.129.49, 192.52.198.1, 198.50.60.244, ...\n",
       "利县       [192.91.20.221, 192.91.130.219, 192.52.68.139,...\n",
       "北京县      [203.6.167.148, 192.31.216.190, 192.52.252.250...\n",
       "华县       [192.0.11.58, 198.51.232.199, 192.167.183.73, ...\n",
       "华市       [57.126.171.51, 192.167.183.73, 7.216.233.147,...\n",
       "南京市      [192.0.86.164, 192.31.197.204, 198.51.108.180,...\n",
       "天津市      [192.168.121.59, 175.83.83.87, 192.93.129.42, ...\n",
       "宜都市      [169.255.140.124, 192.197.89.19, 192.31.204.69...\n",
       "巢湖县      [169.255.215.157, 192.1.229.163, 192.52.252.25...\n",
       "建军县      [192.174.91.31, 200.65.59.250, 206.107.49.25, ...\n",
       "想县       [192.88.156.255, 199.190.135.236, 203.0.84.137...\n",
       "汕尾县      [192.91.130.219, 192.88.66.73, 192.52.143.214,...\n",
       "潜江县      [192.83.9.215, 57.126.171.51, 192.52.192.218, ...\n",
       "玉英县      [197.154.176.98, 192.0.3.183, 192.175.58.238, ...\n",
       "颖市       [202.112.176.9, 169.242.249.63, 192.175.38.219...\n",
       "龙县       [192.172.71.27, 198.50.75.135, 203.0.76.165, 1...\n",
       "Name: ip, dtype: object"
      ]
     },
     "execution_count": 32,
     "metadata": {},
     "output_type": "execute_result"
    }
   ],
   "source": [
    "t = df.groupby('city').ip.unique()\n",
    "t"
   ]
  },
  {
   "cell_type": "code",
   "execution_count": 33,
   "metadata": {},
   "outputs": [
    {
     "data": {
      "text/plain": [
       "city\n",
       "东莞县      100\n",
       "乌鲁木齐县     99\n",
       "伟县        98\n",
       "倩市        98\n",
       "刚市        98\n",
       "利县       100\n",
       "北京县       98\n",
       "华县        99\n",
       "华市       100\n",
       "南京市      100\n",
       "天津市       99\n",
       "宜都市       98\n",
       "巢湖县       97\n",
       "建军县       99\n",
       "想县       100\n",
       "汕尾县       99\n",
       "潜江县       99\n",
       "玉英县       99\n",
       "颖市       100\n",
       "龙县        99\n",
       "Name: ip, dtype: int64"
      ]
     },
     "execution_count": 33,
     "metadata": {},
     "output_type": "execute_result"
    }
   ],
   "source": [
    "t.apply(np.alen)"
   ]
  },
  {
   "cell_type": "code",
   "execution_count": 38,
   "metadata": {},
   "outputs": [
    {
     "data": {
      "text/plain": [
       "city\n",
       "利县     100\n",
       "想县     100\n",
       "南京市    100\n",
       "Name: ip, dtype: int64"
      ]
     },
     "execution_count": 38,
     "metadata": {},
     "output_type": "execute_result"
    }
   ],
   "source": [
    "t.apply(np.alen).sort_values().tail(3)"
   ]
  },
  {
   "cell_type": "markdown",
   "metadata": {},
   "source": [
    "### Q5：假如一个ip一个用户，每天的用户数量数多少，折线图展示！"
   ]
  },
  {
   "cell_type": "code",
   "execution_count": 22,
   "metadata": {},
   "outputs": [
    {
     "data": {
      "text/plain": [
       "datetime\n",
       "2019-05-19    [197.154.176.98, 200.238.69.190, 192.83.9.215,...\n",
       "2019-05-20    [192.91.130.219, 203.6.167.148, 198.51.101.90,...\n",
       "2019-05-21    [169.253.193.81, 202.112.176.9, 192.0.86.164, ...\n",
       "2019-05-22    [192.175.38.219, 192.0.3.183, 192.88.156.255, ...\n",
       "2019-05-23    [192.31.197.204, 198.50.75.135, 200.65.59.250,...\n",
       "2019-05-24    [169.255.140.124, 169.242.249.63, 198.51.232.1...\n",
       "2019-05-25    [197.154.176.98, 192.0.11.58, 192.91.20.221, 1...\n",
       "2019-05-26    [192.175.169.242, 192.31.216.190, 192.1.229.16...\n",
       "2019-05-27    [7.216.233.147, 192.83.9.215, 203.0.76.165, 19...\n",
       "2019-05-28    [169.242.249.63, 57.126.171.51, 198.51.232.199...\n",
       "2019-05-29    [192.172.71.27, 169.255.215.157, 192.175.58.23...\n",
       "Name: ip, dtype: object"
      ]
     },
     "execution_count": 22,
     "metadata": {},
     "output_type": "execute_result"
    }
   ],
   "source": [
    "t = df.groupby(df.datetime.astype('datetime64[ns]').dt.date).ip.unique()\n",
    "t"
   ]
  },
  {
   "cell_type": "code",
   "execution_count": 23,
   "metadata": {},
   "outputs": [
    {
     "data": {
      "text/plain": [
       "datetime\n",
       "2019-05-19     65\n",
       "2019-05-20    100\n",
       "2019-05-21    100\n",
       "2019-05-22    100\n",
       "2019-05-23    100\n",
       "2019-05-24    100\n",
       "2019-05-25    100\n",
       "2019-05-26    100\n",
       "2019-05-27    100\n",
       "2019-05-28    100\n",
       "2019-05-29    100\n",
       "Name: ip, dtype: int64"
      ]
     },
     "execution_count": 23,
     "metadata": {},
     "output_type": "execute_result"
    }
   ],
   "source": [
    "t.apply(np.alen)"
   ]
  },
  {
   "cell_type": "code",
   "execution_count": 24,
   "metadata": {},
   "outputs": [
    {
     "data": {
      "text/plain": [
       "<matplotlib.axes._subplots.AxesSubplot at 0x113a0a748>"
      ]
     },
     "execution_count": 24,
     "metadata": {},
     "output_type": "execute_result"
    },
    {
     "data": {
      "image/png": "[encoded data removed]",
      "text/plain": [
       "<Figure size 432x288 with 1 Axes>"
      ]
     },
     "metadata": {},
     "output_type": "display_data"
    }
   ],
   "source": [
    "t.apply(np.alen).plot()"
   ]
  },
  {
   "cell_type": "code",
   "execution_count": null,
   "metadata": {},
   "outputs": [],
   "source": []
  }
 ],
 "metadata": {
  "kernelspec": {
   "display_name": "Python 3",
   "language": "python",
   "name": "python3"
  },
  "language_info": {
   "codemirror_mode": {
    "name": "ipython",
    "version": 3
   },
   "file_extension": ".py",
   "mimetype": "text/x-python",
   "name": "python",
   "nbconvert_exporter": "python",
   "pygments_lexer": "ipython3",
   "version": "3.6.3"
  }
 },
 "nbformat": 4,
 "nbformat_minor": 1
}
